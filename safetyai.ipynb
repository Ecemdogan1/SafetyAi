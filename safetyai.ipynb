!pip install ImageAI
!wget https://github.com/OlafenwaMoses/ImageAI/releases/download/3.0.0-pretrained/yolov3.pt
from imageai.Detection import ObjectDetection

detector = ObjectDetection()
detector.setModelTypeAsYOLOv3()
detector.setModelPath("yolov3.pt")
detector.loadModel()
detections = detector.detectObjectsFromImage(input_image="test.jpg", output_image_path="imagenew.jpg", minimum_percentage_probability=30)
detector.CustomObjects()
from google.colab.patches import cv2_imshow
import cv2

img = cv2.imread('/content/imagenew.jpg', cv2.IMREAD_UNCHANGED)
cv2_imshow(img)
detections = detector.detectObjectsFromImage(
    input_image="test.jpg",
    output_image_path="output_image.jpg",
    minimum_percentage_probability=30)
for eachObject in detections:
    print(eachObject["name"] , " : ", eachObject["percentage_probability"], " : ", eachObject["box_points"] )
    print("--------------------------------")
def detect_objects_on_road(input_image, output_image, model_path):
    detector = ObjectDetection()
    detector.setModelTypeAsYOLOv3()
    detector.setModelPath(model_path)
    detector.loadModel()

    detections = detector.detectObjectsFromImage(
        input_image=input_image,
        output_image_path=output_image,
        minimum_percentage_probability=30
    )

    return detections

def analyze_objects(detections):
    road_objects = []
    if len(detections) > 0:
      for detection in detections:
          if detection["name"] in ["car", "motorbike", "bicycle", "person", "bus", 'train', 'truck','traffic_light', 'stop_sign']:
              road_objects.append(detection)

    return road_objects

def road_safety_rules():
    print()
    print("Merhaba! SafetyAI kullanıyorsunuz - bir yol güvenliği uygulaması.")
    print("Yol güvenliği kuralları gerçekten önemlidir ve onları hatırlamanıza yardımcı olacağım.")
    print("Unutmayın: yol güvenliği kurallarına uymak ve yola yaklaşırken dikkatli olmak gerçekten önemlidir!")
    print("Trafik ışıklarını ve yaya geçitlerini kullanın.")
    print("Asla karşıya geçmek için tasarlanmamış yerlerde karşıdan karşıya geçmeyin.")
    print("Karşıdan karşıya geçerken hem dikkatli hem de öngörülebilir olmanız gerekiyor!")
    print("Yolda dikkatli olun ve iyi şanslar!")

input_image = "test.jpg"
output_image = "output_image.jpg"

detections = detect_objects_on_road(input_image, output_image, "/content/yolov3.pt")
road_objects = analyze_objects(detections)

if len(road_objects) > 0:
  print("Yoldaki algılanan öğeler:")
  for obj in road_objects:
      print(obj["name"], " : ", obj["percentage_probability"], " : ", obj["box_points"])
else:
   print("Yolu kullanan kimse algılanmadı!")
road_safety_rules()
